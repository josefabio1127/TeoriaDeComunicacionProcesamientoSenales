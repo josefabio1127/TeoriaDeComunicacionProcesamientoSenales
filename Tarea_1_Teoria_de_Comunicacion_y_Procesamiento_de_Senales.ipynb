{
  "nbformat": 4,
  "nbformat_minor": 0,
  "metadata": {
    "colab": {
      "provenance": []
    },
    "kernelspec": {
      "name": "python3",
      "display_name": "Python 3"
    },
    "language_info": {
      "name": "python"
    }
  },
  "cells": [
    {
      "cell_type": "markdown",
      "source": [
        "***Librerías***"
      ],
      "metadata": {
        "id": "Z_ClT_b6xTLD"
      }
    },
    {
      "cell_type": "code",
      "execution_count": null,
      "metadata": {
        "id": "F8NsOlS-xLa8"
      },
      "outputs": [],
      "source": [
        "from math import log\n",
        "from math import sqrt\n",
        "import numpy as np\n",
        "import matplotlib.pyplot as plt\n",
        "from scipy.constants import k"
      ]
    },
    {
      "cell_type": "markdown",
      "source": [
        "***Ejercicio 1***"
      ],
      "metadata": {
        "id": "vedc14eHxW1C"
      }
    },
    {
      "cell_type": "markdown",
      "source": [
        "Para el desarrollo de este ejercicio, se propone el uso de diversas funciones auxiliares las cuales se explican a continuación:"
      ],
      "metadata": {
        "id": "uZ_Siga6poS5"
      }
    },
    {
      "cell_type": "markdown",
      "source": [
        "***ingresar_datos():*** Esta función tiene como objetivo permitir el ingreso de todos los datos al programa y validarlos de acuerdo a las características del dato esperado. Valida tanto el rango, como el tipo de dato de entrada.\n",
        "\n",
        "Argumentos:\n",
        "\n",
        "1. lim_superior: se utiliza para limitar el rango del dato entrante (el límite inferior siempre es 0). En el caso especial, donde el valor de lim_superior sea 0 significa que el dato entrante no tiene ninguna limitación de rango, por lo cual solo se valida el tipo de dato. Tipo int.\n",
        "\n",
        "Retorna:\n",
        "\n",
        "* Retorna el dato que fue ingresado por el usuario. Tipo int o float."
      ],
      "metadata": {
        "id": "2MgSs8eopzVA"
      }
    },
    {
      "cell_type": "code",
      "source": [
        "def ingresar_datos(lim_superior):\n",
        "    while True:\n",
        "\n",
        "        try:  # validacion del datos tipo int y float\n",
        "\n",
        "            if lim_superior != 0:\n",
        "                dato = int(input(\"Seleccion: \"))\n",
        "\n",
        "                if 0 < dato and dato < lim_superior:  # validacion del rango\n",
        "                    return dato\n",
        "\n",
        "                else:\n",
        "                    print(\"El dato ingresado se encuentra fuera de rango.\")\n",
        "\n",
        "            else:  # limite superior = 0 -> ingreso de magnitudes\n",
        "                dato = float(input(\"Valor: \"))\n",
        "                return dato\n",
        "\n",
        "        except ValueError:\n",
        "            print(\"El dato ingresado contiene caracteres no numericos o representacion flotante.\")"
      ],
      "metadata": {
        "id": "viG3I5SNqiJq"
      },
      "execution_count": null,
      "outputs": []
    },
    {
      "cell_type": "markdown",
      "source": [
        "***dBu_dBm():*** realiza la conversión de dBu a dBm.\n",
        "\n",
        "Argumentos:\n",
        "\n",
        "1. entrada: dato a convertir. Tipo float.\n",
        "\n",
        "Retorna:\n",
        "\n",
        "* El resultado de la conversion. Tipo float."
      ],
      "metadata": {
        "id": "g1IKoxH1q23e"
      }
    },
    {
      "cell_type": "code",
      "source": [
        "def dBu_dBm(entrada):\n",
        "    resultado = entrada - 30\n",
        "    return resultado"
      ],
      "metadata": {
        "id": "F_Ch7SZOrAFE"
      },
      "execution_count": null,
      "outputs": []
    },
    {
      "cell_type": "markdown",
      "source": [
        "***dBu_dbW():*** realiza la conversion de dBu a dbW.\n",
        "\n",
        "Argumentos:\n",
        "\n",
        "1. entrada: dato a convertir. Tipo float.\n",
        "\n",
        "Retorna:\n",
        "\n",
        "* El resultado de la conversion. Tipo float."
      ],
      "metadata": {
        "id": "w-0NUXnMrCOu"
      }
    },
    {
      "cell_type": "code",
      "source": [
        "def dBu_dbW(entrada):\n",
        "    resultado = entrada - 60\n",
        "    return resultado"
      ],
      "metadata": {
        "id": "ROYonPZPrCHs"
      },
      "execution_count": null,
      "outputs": []
    },
    {
      "cell_type": "markdown",
      "source": [
        "***dBm_dBu()***: realiza la conversion de dBm a dBu.\n",
        "\n",
        "Argumentos:\n",
        "\n",
        "1. entrada: dato a convertir. Tipo float.\n",
        "\n",
        "Retorna:\n",
        "\n",
        "* El resultado de la conversion. Tipo float."
      ],
      "metadata": {
        "id": "E_tW4Q72rCBK"
      }
    },
    {
      "cell_type": "code",
      "source": [
        "def dBm_dBu(entrada):\n",
        "    resultado = entrada + 30\n",
        "    return resultado"
      ],
      "metadata": {
        "id": "9oJl7U3crB5u"
      },
      "execution_count": null,
      "outputs": []
    },
    {
      "cell_type": "markdown",
      "source": [
        "***dBm_dbW()***: realiza la conversion de dBm a dbW.\n",
        "\n",
        "Argumentos:\n",
        "\n",
        "1. entrada: dato a convertir. Tipo float.\n",
        "\n",
        "Retorna:\n",
        "\n",
        "* El resultado de la conversion. Tipo float."
      ],
      "metadata": {
        "id": "PUNznzsKrByY"
      }
    },
    {
      "cell_type": "code",
      "source": [
        "def dBm_dbW(entrada):\n",
        "    resultado = entrada - 30\n",
        "    return resultado"
      ],
      "metadata": {
        "id": "RdTyvOKzrBrE"
      },
      "execution_count": null,
      "outputs": []
    },
    {
      "cell_type": "markdown",
      "source": [
        "***dbW_dBu():*** realiza la conversion de dbW a dBu.\n",
        "\n",
        "Argumentos:\n",
        "\n",
        "1. entrada: dato a convertir. Tipo float.\n",
        "\n",
        "Retorna:\n",
        "\n",
        "* El resultado de la conversion. Tipo float."
      ],
      "metadata": {
        "id": "7Y3hn-SsrBkg"
      }
    },
    {
      "cell_type": "code",
      "source": [
        "def dbW_dBu(entrada):\n",
        "    resultado = entrada + 60\n",
        "    return resultado"
      ],
      "metadata": {
        "id": "vphvBeIvrBc9"
      },
      "execution_count": null,
      "outputs": []
    },
    {
      "cell_type": "markdown",
      "source": [
        "***dbW_dBm():*** realiza la conversion de dbW a dBm.\n",
        "\n",
        "Argumentos:\n",
        "\n",
        "1. entrada: dato a convertir. Tipo float.\n",
        "\n",
        "Retorna:\n",
        "\n",
        "* El resultado de la conversion. Tipo float."
      ],
      "metadata": {
        "id": "qI1rnESIrBJp"
      }
    },
    {
      "cell_type": "code",
      "source": [
        "def dbW_dBm(entrada):\n",
        "    resultado = entrada + 30\n",
        "    return resultado"
      ],
      "metadata": {
        "id": "2Bjr-MEerA1x"
      },
      "execution_count": null,
      "outputs": []
    },
    {
      "cell_type": "markdown",
      "source": [
        "***main1_1():*** En esta función se desarrolla el programa principal para la ejecución del ejercicio 1.1. No posee parámetros, ni valores de retorno. Los valores ingresados son mediante la consola por parte del usuario, y los resultados deseados se imprimen durante la ejecución de la misma."
      ],
      "metadata": {
        "id": "wXOsTpzurAmU"
      }
    },
    {
      "cell_type": "code",
      "source": [
        "def main_1_1():\n",
        "    #  ingreso de datos\n",
        "    print(\"Dato de entrada:\\n1.dBu\\n2.dBm\\n3.dBw\")\n",
        "    tipo_entrada = ingresar_datos(4)  # tipo de dato de entrada\n",
        "    valor_entrada = ingresar_datos(0)  # valor del dato de entrada\n",
        "    print(\"Dato de salida:\\n1.dBu\\n2.dBm\\n3.dBw\")\n",
        "    unidad_salida = ingresar_datos(4)  # tipo de dato de salida\n",
        "    resultado = []\n",
        "\n",
        "    if tipo_entrada == 1:  # dato de entrada: dBu\n",
        "\n",
        "        if unidad_salida == 2:  # conversion dBu -> dBm\n",
        "            resultado.append(dBu_dBm(valor_entrada))\n",
        "            resultado.append(\"dBm\")\n",
        "        elif unidad_salida == 3:  # conversion dBu -> dBW\n",
        "            resultado.append(dBu_dbW(valor_entrada))\n",
        "            resultado.append(\"dbW\")\n",
        "        else:  # no hay conversion dBu -> dBu\n",
        "            print(\"Mismo tipo de entrada y salida, no hay conversion.\")\n",
        "            resultado.append(valor_entrada)\n",
        "            resultado.append(\"dBu\")\n",
        "\n",
        "    elif tipo_entrada == 2:  # dato de entrada: dBm\n",
        "\n",
        "        if unidad_salida == 1:  # conversion dBm -> dBu\n",
        "            resultado.append(dBm_dBu(valor_entrada))\n",
        "            resultado.append(\"dBu\")\n",
        "        elif unidad_salida == 3:  # conversion dBm -> dBW\n",
        "            resultado.append(dBm_dbW(valor_entrada))\n",
        "            resultado.append(\"dbW\")\n",
        "        else:  # no hay conversion dBm -> dBm\n",
        "            print(\"Mismo tipo de entrada y salida, no hay conversion.\")\n",
        "            resultado.append(valor_entrada)\n",
        "            resultado.append(\"dBm\")\n",
        "\n",
        "    elif tipo_entrada == 3:  # dato de entrada dBW\n",
        "\n",
        "        if unidad_salida == 1:  # conversion dBW -> dBu\n",
        "            resultado.append(dbW_dBu(valor_entrada))\n",
        "            resultado.append(\"dBu\")\n",
        "        elif unidad_salida == 2:  # conversion dBW -> dBm\n",
        "            resultado.append(dbW_dBm(valor_entrada))\n",
        "            resultado.append(\"dBm\")\n",
        "        else:  # no hay conversion dBW -> dBW\n",
        "            print(\"Mismo tipo de entrada y salida, no hay conversion.\")\n",
        "            resultado.append(valor_entrada)\n",
        "            resultado.append(\"dbW\")\n",
        "\n",
        "    print(\"El resultado es {} {}\".format(str(resultado[0]), resultado[1]))"
      ],
      "metadata": {
        "id": "__wWS0krxWXz"
      },
      "execution_count": null,
      "outputs": []
    },
    {
      "cell_type": "markdown",
      "source": [
        "***Ejecución del ejercicio 1.1***"
      ],
      "metadata": {
        "id": "u9J2ODlyhYrP"
      }
    },
    {
      "cell_type": "code",
      "source": [
        "main_1_1()"
      ],
      "metadata": {
        "id": "aTtEjvVDhezh"
      },
      "execution_count": null,
      "outputs": []
    },
    {
      "cell_type": "markdown",
      "source": [
        "***Ejercicio 1.2:*** Con el uso de las funciones anteriormente descritas, se muestra el desarrollo del programa principal para ejecutar la parte 2 del ejercicio 1."
      ],
      "metadata": {
        "id": "ZwxtXQCexWAL"
      }
    },
    {
      "cell_type": "code",
      "source": [
        "def main_1_2():\n",
        "    # ingreso de datos\n",
        "    print(\"Dato de entrada:\\n1.dBu\\n2.dBm\\n3.dBw\\n4.Watt\")\n",
        "    tipo_entrada = ingresar_datos(5)  # tipo de dato de entrada\n",
        "    valor_entrada = ingresar_datos(0)  # valor del dato de entrada\n",
        "    resultado = []\n",
        "    if tipo_entrada == 4:  # Entrada watt -> salida en dB's\n",
        "        print(\"Dato de salida:\\n1.dBu\\n2.dBm\\n3.dBw\")\n",
        "        unidad_salida = ingresar_datos(4)  # tipo de dB de salida\n",
        "        resultado_dbW = 10*log(valor_entrada, 10)  # conversion watt -> dBW\n",
        "\n",
        "        if unidad_salida == 1:  # salida en dBu\n",
        "            resultado.append(dbW_dBu(resultado_dbW))\n",
        "            resultado.append(\"dBu\")\n",
        "        elif unidad_salida == 2:  # salida en dBm\n",
        "            resultado.append(dbW_dBm(resultado_dbW))\n",
        "            resultado.append(\"dBm\")\n",
        "        else:  # salida en dBW\n",
        "            resultado.append(resultado_dbW)\n",
        "            resultado.append(\"dbW\")\n",
        "\n",
        "    else:  # Entrada en dB's -> salida en Watt\n",
        "\n",
        "        if tipo_entrada == 1:  # entrada dBu\n",
        "            resultado_dbW = dBu_dbW(valor_entrada)\n",
        "        elif tipo_entrada == 2:  # entrada dBm\n",
        "            resultado_dbW = dBm_dbW(valor_entrada)\n",
        "        else:  # entrada dBW\n",
        "            resultado_dbW = valor_entrada\n",
        "        resultado.append(pow(10, resultado_dbW/10))  # conversion dBW a Watt\n",
        "        resultado.append(\"W\")\n",
        "\n",
        "    print(\"El resultado es {} {}\".format(str(resultado[0]), resultado[1]))"
      ],
      "metadata": {
        "id": "6Yp2-05-ot6T"
      },
      "execution_count": null,
      "outputs": []
    },
    {
      "cell_type": "markdown",
      "source": [
        "***Ejecución del ejercicio 1.2***"
      ],
      "metadata": {
        "id": "Fab7UlEHji9G"
      }
    },
    {
      "cell_type": "code",
      "source": [
        "main_1_2()"
      ],
      "metadata": {
        "id": "rfkBurWwjl2s"
      },
      "execution_count": null,
      "outputs": []
    },
    {
      "cell_type": "markdown",
      "source": [
        "***Ejercicio 2:***"
      ],
      "metadata": {
        "id": "Ve69s1a_FDnj"
      }
    },
    {
      "cell_type": "markdown",
      "source": [
        "\n",
        "Para el desarrollo de este ejercicio, se propone el uso de diversas funciones auxiliares las cuales se explican a continuación:"
      ],
      "metadata": {
        "id": "e_sqnvBgqjbS"
      }
    },
    {
      "cell_type": "markdown",
      "source": [
        "***puntos_grafica():*** Esta función tiene como objetivo crear los arrays de valores para el eje x y y, para funciones periodicas, diente de sierra, cuadrada y senoidal para este caso. Tiene 4 argumentos:\n",
        "\n",
        "1.   amplitud: amplitud de la funcion periodica de la cual se desean generar los puntos. Tipo float o int.\n",
        "2.   periodo: periodo de repetición de la funcion periodica de la cual se desean generar los puntos. Tipo float o int.\n",
        "3.   cantidad_periodos: cantidad de veces que se desea que se repita la función. Tipo int.\n",
        "4.   funcion: funcion periodica de la cual se desean generar los puntos. Tipo int (de 1 a 3, para otros valores se toma la funcion senoidal como default)\n",
        "     - 1 -> Diente de Sierra\n",
        "     - 2 -> Cuadrada\n",
        "     - 3 -> Senoidal\n",
        "\n",
        "Retorna 2 arrays:\n",
        "1.   x -> Array con los valores de x correspondientes al periodo y cantidad de periodos solicitados.\n",
        "2.   y -> Array con los valores de y correspondientes a la funcion solicitada.\n",
        "\n"
      ],
      "metadata": {
        "id": "A1Dz1vbxqmJ1"
      }
    },
    {
      "cell_type": "code",
      "source": [
        "def puntos_grafica(amplitud, periodo, cantidad_periodos, funcion):\n",
        "    x = np.linspace(0, periodo, 1000)  # 1er periodo de puntos en x\n",
        "\n",
        "    # 1er periodo de puntos en y\n",
        "    if funcion == 1:  # diente de sierra\n",
        "        y1p = x*amplitud/periodo\n",
        "\n",
        "    elif funcion == 2:  # onda cuadrada\n",
        "        y1p = []\n",
        "        for element in x:\n",
        "            if element < periodo/2:\n",
        "                y1p.append(0)\n",
        "            else:\n",
        "                y1p.append(amplitud)\n",
        "\n",
        "    else:  # senoidal\n",
        "        y1p = amplitud*np.sin(2*np.pi*x/periodo)\n",
        "\n",
        "    x = np.linspace(0, periodo*cantidad_periodos, 1000*cantidad_periodos)  # array puntos en x\n",
        "    y = []\n",
        "\n",
        "    for _ in range(cantidad_periodos):  # generacion del array de puntos y completo\n",
        "        for element in y1p:\n",
        "          y.append(element)\n",
        "\n",
        "    return x, y"
      ],
      "metadata": {
        "id": "FMrRgm3mPVo1"
      },
      "execution_count": null,
      "outputs": []
    },
    {
      "cell_type": "markdown",
      "source": [
        "***ruido():*** esta función tiene como objetivo modificar un array de datos, en este caso, la representación en \"y\" de una función, por un nuevo array con una componente de ruido aleatorio agregado proporcional a la amplitud de la función.\n",
        "\n",
        "Tiene 3 argumentos:\n",
        "\n",
        "1. y: array que se desea modificar agregándole ruido. Tipo array.\n",
        "2. amplitud: amplitud de la función a la cual pertene el array. Tipo float o int.\n",
        "3. nivel_ruido: nivel de ruido que se desea aplicar a la señal. Tipo int (en un rango de 1 a 3. Para otros valores el default es alto)\n",
        "    - 1 -> bajo\n",
        "    - 2 -> medio\n",
        "    - 3 -> alto\n",
        "\n",
        "Retorna:\n",
        "- Nuevo array con la componente de ruido agregada. Tipo array.\n"
      ],
      "metadata": {
        "id": "A7gW_bfazA_r"
      }
    },
    {
      "cell_type": "code",
      "source": [
        "def ruido(y, amplitud, nivel_ruido):\n",
        "\n",
        "    if nivel_ruido == 1:  # bajo\n",
        "        nivel = amplitud*0.02\n",
        "\n",
        "    elif nivel_ruido == 2:  # medio\n",
        "        nivel = amplitud*0.05\n",
        "\n",
        "    else:  #alto\n",
        "        nivel = amplitud*0.10\n",
        "\n",
        "    ruido = np.random.normal(scale=nivel, size=len(y))  # array de valores de ruido\n",
        "    y_ruido = y + ruido  # se agrega el ruido\n",
        "\n",
        "    return y_ruido"
      ],
      "metadata": {
        "id": "EJfVZxAQWC3K"
      },
      "execution_count": null,
      "outputs": []
    },
    {
      "cell_type": "markdown",
      "source": [
        "***graficar():*** esta función tiene como objetivo graficar un 2 conjuntos de datos (x, y) en un plano.\n",
        "\n",
        "Tiene 4 argumentos:\n",
        "\n",
        "1. x: array que contiene los datos que se van a graficar en x. Tipo array.\n",
        "2. y: array que contiene los datos que se van a graficar en y. Tipo array.\n",
        "3. funcion: nombre de la funcion que se va a graficar. Tipo str.\n",
        "4. ruido: nivel de ruido que contiene la señal. Por default es \"\" para señales que no contienen ruido. Tipo str.\n",
        "\n",
        "Retorna:\n",
        "- No retorna ningún tipo de dato. Imprime los gráficos esperados durante su ejecución."
      ],
      "metadata": {
        "id": "Ay2CBSxwKwTi"
      }
    },
    {
      "cell_type": "code",
      "source": [
        "def graficar(x, y, funcion, ruido = \"\"):\n",
        "    plt.plot(x, y)\n",
        "    plt.xlabel(\"x\")  # nombre del eje x\n",
        "    if ruido == \"\":  # caso sin ruido\n",
        "        plt.ylabel(\"y\")\n",
        "        plt.title(\"Gráfica {} Sin Ruido\".format(funcion))\n",
        "\n",
        "    else:  # caso con ruido\n",
        "        plt.ylabel(\"y_ruido\")\n",
        "        plt.title(\"Gráfica {} Con Nivel {} de Ruido\".format(funcion, ruido))\n",
        "\n",
        "    plt.show()  # impresion del grafico"
      ],
      "metadata": {
        "id": "IpYnE65jo0PN"
      },
      "execution_count": null,
      "outputs": []
    },
    {
      "cell_type": "markdown",
      "source": [
        "***main_2():*** esta función contiene el programa principal para ejecutar el ejercicio 2. No tiene parámetros, ni retorna ningún valor, todos los valores esperados se imprimen durante su ejecución."
      ],
      "metadata": {
        "id": "3i8BLHJEMiPm"
      }
    },
    {
      "cell_type": "code",
      "source": [
        "def main_2():\n",
        "    # ingreso de datos\n",
        "    print(\"Elija la curva que desea generar:\\n1.Diente de Sierra\\n2.Cuadrada\\n3.Senoidal\")\n",
        "    funcion = ingresar_datos(4)\n",
        "\n",
        "    print(\"Elija el nivel de ruido que desea que tenga la curva:\\n1.Bajo\\n2.Medio\\n3.Alto\")\n",
        "    nivel_ruido = ingresar_datos(4)\n",
        "\n",
        "    print(\"Ingrese el valor de amplitud de la gráfica:\")\n",
        "    amplitud = ingresar_datos(0)\n",
        "\n",
        "    print(\"Ingrese el valor de periodo de la gráfica:\")\n",
        "    periodo = ingresar_datos(0)\n",
        "\n",
        "    print(\"Ingrese la cantidad de periodos que desea visualizar:\")\n",
        "    cantidad_periodos = int(ingresar_datos(0))\n",
        "\n",
        "    x, y = puntos_grafica(amplitud, periodo, cantidad_periodos, funcion)  # generacion de los arrays para la gráfica\n",
        "    y_ruido = ruido(y, amplitud, nivel_ruido)  # se genera la componente con ruido\n",
        "\n",
        "    # listas con nombres utilizados para la rotulacion de las graficas\n",
        "    funciones = [\"Diente de Sierra\", \"Cuadrada\", \"Senoidal\"]\n",
        "    niveles = [\"Bajo\", \"Medio\", \"Alto\"]\n",
        "\n",
        "    graficar(x, y, funciones[funcion - 1])  # grafica sin ruido\n",
        "    graficar(x, y_ruido, funciones[funcion -1], niveles[nivel_ruido -1])  # grafica con ruido"
      ],
      "metadata": {
        "id": "4_J61GdrdHOR"
      },
      "execution_count": null,
      "outputs": []
    },
    {
      "cell_type": "markdown",
      "source": [
        "Ejecución del ejercicio 2"
      ],
      "metadata": {
        "id": "Fvyx-5n0NZ-a"
      }
    },
    {
      "cell_type": "code",
      "source": [
        "main_2()"
      ],
      "metadata": {
        "id": "4TjI7JwGNczu"
      },
      "execution_count": null,
      "outputs": []
    },
    {
      "cell_type": "markdown",
      "source": [
        "***Ejercicio 3***"
      ],
      "metadata": {
        "id": "26TppRQSlZhH"
      }
    },
    {
      "cell_type": "markdown",
      "source": [
        "***ruido_termico():*** esta función contiene el programa principal para ejecutar el ejercicio 3.1. No tiene parámetros, ni retorna ningún valor, todos los valores esperados se imprimen durante su ejecución."
      ],
      "metadata": {
        "id": "0ni2hcqYZ9Wg"
      }
    },
    {
      "cell_type": "code",
      "source": [
        "def ruido_termico():\n",
        "\t\t#ingreso de datos\n",
        "\t\tprint(\"Elija la unidad de la temperatura:\\n1. Kelvin\\n2. Celsius\\n3. Farenheit \")\n",
        "\t\tunidades_T = ingresar_datos(4)\n",
        "\t\tprint(\"Ingrese la temperatura:\")\n",
        "\t\ttemp = ingresar_datos(0)\n",
        "\t\tprint(\"Elija la unidad del ancho de banda:\\n1. kHz\\n2. MHz\\n3. GHz\")\n",
        "\t\tunidades_B = ingresar_datos(4)\n",
        "\t\tprint(\"Ingrese el ancho de banda\")\n",
        "\t\tancho_banda = ingresar_datos(0)\n",
        "\n",
        "\t\tif unidades_T == 1:  # kelvin\n",
        "\t\t\t\tpass\n",
        "\t\telif unidades_T == 2:  # celsius\n",
        "\t\t\t\ttemp = temp + 273\n",
        "\t\telse:  # farenheit\n",
        "\t\t\t\ttemp = (temp + 460)*(5/9)\n",
        "\n",
        "\t\tif unidades_B == 1:  # kHz\n",
        "\t\t\t\tancho_banda = ancho_banda * (10 ** 3)\n",
        "\t\telif unidades_B == 2:  # MHz\n",
        "\t\t\t\tancho_banda = ancho_banda * (10 ** 6)\n",
        "\t\telse:  # GHz\n",
        "\t\t\t\tancho_banda = ancho_banda * (10 ** 9)\n",
        "\n",
        "\t\tK = k  # constante de Boltzman\n",
        "\t\truido_t = ancho_banda*K*temp  #calculo del ruido termico\n",
        "\t\tprint(ruido_t)\n",
        "\t\truido_t_db = 10 * log(ruido_t, 10)\n",
        "\n",
        "\t\tprint(\"La magnitud de ruido termico es de:\", ruido_t_db, \"dBm\")"
      ],
      "metadata": {
        "id": "flYA_mteIZec"
      },
      "execution_count": null,
      "outputs": []
    },
    {
      "cell_type": "markdown",
      "source": [
        "***Ejecución del ejercicio 3.1***"
      ],
      "metadata": {
        "id": "xKZ9WFVXaNG1"
      }
    },
    {
      "cell_type": "code",
      "source": [
        "ruido_termico()"
      ],
      "metadata": {
        "id": "HbKru0oAaL_3"
      },
      "execution_count": null,
      "outputs": []
    },
    {
      "cell_type": "markdown",
      "source": [
        "***distorsion_armónica():*** esta función contiene el programa principal para ejecutar el ejercicio 3.2. No tiene parámetros, ni retorna ningún valor, todos los valores esperados se imprimen durante su ejecución."
      ],
      "metadata": {
        "id": "VD2VCQSJcovV"
      }
    },
    {
      "cell_type": "code",
      "source": [
        "def distorsion_armónica():\n",
        "    # ingreso de datos\n",
        "    print(\"Ingrese la tensión RMS del armónico fundamental:\")\n",
        "    tension_rms = ingresar_datos(0)\n",
        "    print(\"Digite el número de armónicos que presenta la señal: \")\n",
        "    num_armonicos = int(ingresar_datos(0))\n",
        "\n",
        "    armonic_list = []\n",
        "    for n in range(num_armonicos):\n",
        "        print(\"Ingrese el VRMS del armónico {}: \".format(str(n+1)))\n",
        "        rms_armonico = ingresar_datos(0)  # valor rms de cada armonico\n",
        "        rms_armonico_2 = rms_armonico ** 2  # valor rms^2 de cada armonico\n",
        "        armonic_list.append(rms_armonico_2)\n",
        "\n",
        "    V_sup_temp = 0\n",
        "    for element in armonic_list:  # suma del valor rms^2 de cada armonico\n",
        "        V_sup_temp = element + V_sup_temp\n",
        "    V_sup = sqrt(V_sup_temp)\n",
        "    porc_THD = (V_sup / tension_rms) * 100\n",
        "    print (\"La distorsión armonica total es de: \", porc_THD, \"%\")"
      ],
      "metadata": {
        "id": "G4Iulxkrcy3_"
      },
      "execution_count": null,
      "outputs": []
    },
    {
      "cell_type": "markdown",
      "source": [
        "***Ejecución del ejercicio 3.2***"
      ],
      "metadata": {
        "id": "EdPWjEfnghvB"
      }
    },
    {
      "cell_type": "code",
      "source": [
        "distorsion_armónica()"
      ],
      "metadata": {
        "id": "bLQ1XUbpgIm_"
      },
      "execution_count": null,
      "outputs": []
    },
    {
      "cell_type": "markdown",
      "source": [
        "amplificador_no_ideal(): esta función contiene el programa principal para ejecutar el ejercicio 3.3. No tiene parámetros, ni retorna ningún valor, todos los valores esperados se imprimen durante su ejecución."
      ],
      "metadata": {
        "id": "zKKMvKZYglr4"
      }
    },
    {
      "cell_type": "code",
      "source": [
        "def amplificador_no_ideal():\n",
        "    # ingreso de datos\n",
        "    print(\"Ingrese la potencia de entrada en W: \")\n",
        "    pot_entrada = ingresar_datos(0)\n",
        "    print(\"Ingrese la potencia de ruido en W: \")\n",
        "    pot_ruido = ingresar_datos(0)\n",
        "    print(\"Ingrese la magnitud de ganacia de potencia: \")\n",
        "    gan_potencia = ingresar_datos(0)\n",
        "    print(\"Ingrese la magnitud de ruido interno: \")\n",
        "    ruido_interno = ingresar_datos(0)\n",
        "\n",
        "    entrada_temp = pot_entrada/pot_ruido\n",
        "    S_N_entrada = 10 * log(entrada_temp, 10)\n",
        "    print(\"S/N a la entrada en dB equivale a: \", S_N_entrada)\n",
        "\n",
        "    salida_temp = (gan_potencia*pot_entrada)/(gan_potencia*pot_ruido+ruido_interno)\n",
        "    S_N_salida = 10 * log(salida_temp, 10)\n",
        "    print(\"S/N a la salida en dB equivale a: \", S_N_salida)\n",
        "\n",
        "    factor_ruido = S_N_entrada/S_N_salida\n",
        "\n",
        "    cifra_ruido = 10 * log(factor_ruido, 10)\n",
        "\n",
        "    print(\"El factor de ruido es de: \", factor_ruido)\n",
        "    print(\"La cifra de ruido es de: \", cifra_ruido)"
      ],
      "metadata": {
        "id": "ZYaOQN3vgssW"
      },
      "execution_count": null,
      "outputs": []
    },
    {
      "cell_type": "markdown",
      "source": [
        "***Ejecución del ejercicio 3.3***"
      ],
      "metadata": {
        "id": "bPqRm7Nuh4wF"
      }
    },
    {
      "cell_type": "code",
      "source": [
        "amplificador_no_ideal()"
      ],
      "metadata": {
        "id": "QbhTPPeJh3nv"
      },
      "execution_count": null,
      "outputs": []
    }
  ]
}